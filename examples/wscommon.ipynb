{
 "cells": [
  {
   "cell_type": "code",
   "execution_count": 1,
   "metadata": {},
   "outputs": [
    {
     "name": "stdout",
     "output_type": "stream",
     "text": [
      "Requirement already satisfied: python-dotenv in /Users/ben.zuckier/.pyenv/versions/3.8.17/lib/python3.8/site-packages (1.0.0)\n",
      "Note: you may need to restart the kernel to use updated packages.\n"
     ]
    }
   ],
   "source": [
    "%pip install python-dotenv\n",
    "\n",
    "import dotenv\n",
    "\n",
    "import enclave.models\n",
    "\n",
    "\n",
    "# change to the env of your choice that matches the API keys: PROD, DEV, SANDBOX etc.\n",
    "BASE_URL = enclave.models.WS_SANDBOX\n",
    "env_filename = \"sandbox.env\"\n",
    "\n",
    "API_KEY: str = \"\"\n",
    "API_SECRET: str = \"\"\n",
    "\n",
    "\n",
    "if not all([API_KEY, API_SECRET]):\n",
    "    envs = dotenv.dotenv_values(env_filename)\n",
    "    if envs and \"key\" in envs and \"secret\" in envs:\n",
    "        API_KEY, API_SECRET = str(envs[\"key\"]), str(envs[\"secret\"])\n",
    "\n",
    "if not all([API_KEY, API_SECRET]):\n",
    "    raise ValueError(\"Please provide API_KEY and API_SECRET\")"
   ]
  },
  {
   "cell_type": "code",
   "execution_count": 2,
   "metadata": {},
   "outputs": [],
   "source": [
    "connect_callback = lambda : print(\"On Connect\")\n",
    "auth_callback = lambda : print(\"On Auth\")\n",
    "error_callback = lambda x: print(f\"On Error: {x}\")\n",
    "disconnect_callback = lambda : print(\"On Disconnect\")\n",
    "exit_callback = lambda : print(\"On Exit\")"
   ]
  },
  {
   "cell_type": "code",
   "execution_count": 3,
   "metadata": {},
   "outputs": [],
   "source": [
    "from enclave import wsclient\n",
    "\n",
    "ws = wsclient.WebSocketClient(API_KEY, API_SECRET, base_url=BASE_URL, on_connect=connect_callback, on_auth=auth_callback, on_error=error_callback, on_disconnect=disconnect_callback, on_exit=exit_callback)"
   ]
  },
  {
   "cell_type": "code",
   "execution_count": 4,
   "metadata": {},
   "outputs": [],
   "source": [
    "ws.add_pending_subscription(\"deposits\", print)"
   ]
  },
  {
   "cell_type": "code",
   "execution_count": 5,
   "metadata": {},
   "outputs": [],
   "source": [
    "import asyncio\n",
    "from typing import Any\n",
    "\n",
    "async def sleep_do(sleep_secs: float, do: Any):\n",
    "    await asyncio.sleep(sleep_secs)\n",
    "    await do()\n",
    "\n",
    "async def close_after(ws: wsclient.WebSocketClient, seconds: float):\n",
    "    await asyncio.sleep(seconds)\n",
    "    await ws.close()\n",
    "\n",
    "async def subscribe_and_unsubscribe_prices(sleep_secs: float = 5):\n",
    "    await asyncio.sleep(sleep_secs)\n",
    "    await ws.subscribe_callback(\"prices\", lambda x: print(f\"On Prices: {x}\"))\n",
    "    await asyncio.sleep(sleep_secs)\n",
    "    await ws.unsubscribe_callback(\"prices\")"
   ]
  },
  {
   "cell_type": "code",
   "execution_count": 6,
   "metadata": {},
   "outputs": [],
   "source": [
    "# def auth_callback(calls=0):\n",
    "#     def cb():\n",
    "#         nonlocal calls\n",
    "#         if calls == 0:\n",
    "#             calls += 1\n",
    "#             raise ValueError(\"simulate auth error the first time\")\n",
    "#         print(\"On Auth\")\n",
    "#     return cb"
   ]
  },
  {
   "cell_type": "code",
   "execution_count": 7,
   "metadata": {},
   "outputs": [
    {
     "name": "stdout",
     "output_type": "stream",
     "text": [
      "On Connect\n",
      "On Auth\n",
      "On Prices: {'type': 'update', 'channel': 'prices', 'data': {'pair': {'base': 'AAVE', 'quote': 'USDC'}, 'price': '98.8896624500350105', 'time': '2023-12-07T22:29:22.742943479Z'}}\n",
      "On Prices: {'type': 'update', 'channel': 'prices', 'data': {'pair': {'base': 'WBTC', 'quote': 'USDCa'}, 'price': '43347.0085512352205662', 'time': '2023-12-07T22:29:22.742943479Z'}}\n",
      "On Prices: {'type': 'update', 'channel': 'prices', 'data': {'pair': {'base': 'USDT', 'quote': 'USD'}, 'price': '1.0001625', 'time': '2023-12-07T22:29:22.742943479Z'}}\n",
      "On Prices: {'type': 'update', 'channel': 'prices', 'data': {'pair': {'base': 'AVAX', 'quote': 'USDCa'}, 'price': '26.6154834473592078', 'time': '2023-12-07T22:29:22.742943479Z'}}\n",
      "On Prices: {'type': 'update', 'channel': 'prices', 'data': {'pair': {'base': 'AVAX', 'quote': 'USDC'}, 'price': '26.6154834473592078', 'time': '2023-12-07T22:29:22.742943479Z'}}\n",
      "On Prices: {'type': 'update', 'channel': 'prices', 'data': {'pair': {'base': 'AAVE', 'quote': 'WBTC'}, 'price': '0.0022821135909682', 'time': '2023-12-07T22:29:22.742943479Z'}}\n",
      "On Prices: {'type': 'update', 'channel': 'prices', 'data': {'pair': {'base': 'ETH', 'quote': 'WBTC'}, 'price': '0.0545800154067018', 'time': '2023-12-07T22:29:22.742943479Z'}}\n",
      "On Prices: {'type': 'update', 'channel': 'prices', 'data': {'pair': {'base': 'LINK', 'quote': 'BTC.b'}, 'price': '0.000362203074861', 'time': '2023-12-07T22:29:22.742943479Z'}}\n",
      "On Prices: {'type': 'update', 'channel': 'prices', 'data': {'pair': {'base': 'ETH', 'quote': 'USD'}, 'price': '2364.9575', 'time': '2023-12-07T22:29:22.742943479Z'}}\n",
      "On Prices: {'type': 'update', 'channel': 'prices', 'data': {'pair': {'base': 'BTC.b', 'quote': 'USDCa'}, 'price': '43347.0085512352205662', 'time': '2023-12-07T22:29:22.742943479Z'}}\n",
      "On Prices: {'type': 'update', 'channel': 'prices', 'data': {'pair': {'base': 'AVAX', 'quote': 'ETH'}, 'price': '0.0112507304983034', 'time': '2023-12-07T22:29:22.742943479Z'}}\n",
      "On Prices: {'type': 'update', 'channel': 'prices', 'data': {'pair': {'base': 'ETH', 'quote': 'USDCa'}, 'price': '2365.6670936893818146', 'time': '2023-12-07T22:29:22.742943479Z'}}\n",
      "On Prices: {'type': 'update', 'channel': 'prices', 'data': {'pair': {'base': 'BTC.b', 'quote': 'USDC'}, 'price': '43347.0085512352205662', 'time': '2023-12-07T22:29:22.742943479Z'}}\n",
      "On Prices: {'type': 'update', 'channel': 'prices', 'data': {'pair': {'base': 'AAVE', 'quote': 'ETH'}, 'price': '0.0418020206005554', 'time': '2023-12-07T22:29:22.742943479Z'}}\n",
      "On Prices: {'type': 'update', 'channel': 'prices', 'data': {'pair': {'base': 'AAVE', 'quote': 'BTC.b'}, 'price': '0.0022821135909682', 'time': '2023-12-07T22:29:22.742943479Z'}}\n",
      "On Prices: {'type': 'update', 'channel': 'prices', 'data': {'pair': {'base': 'LINK', 'quote': 'AVAX'}, 'price': '0.5898525055829505', 'time': '2023-12-07T22:29:22.742943479Z'}}\n",
      "On Prices: {'type': 'update', 'channel': 'prices', 'data': {'pair': {'base': 'LINK', 'quote': 'WBTC'}, 'price': '0.000362203074861', 'time': '2023-12-07T22:29:22.742943479Z'}}\n",
      "On Prices: {'type': 'update', 'channel': 'prices', 'data': {'pair': {'base': 'BTC', 'quote': 'USDC'}, 'price': '43358.2655287056616985', 'time': '2023-12-07T22:29:22.742943479Z'}}\n",
      "On Prices: {'type': 'update', 'channel': 'prices', 'data': {'pair': {'base': 'WBTC', 'quote': 'USDC'}, 'price': '43347.0085512352205662', 'time': '2023-12-07T22:29:22.742943479Z'}}\n",
      "On Prices: {'type': 'update', 'channel': 'prices', 'data': {'pair': {'base': 'AAVE', 'quote': 'AVAX'}, 'price': '3.7154940469716467', 'time': '2023-12-07T22:29:22.742943479Z'}}\n",
      "On Prices: {'type': 'update', 'channel': 'prices', 'data': {'pair': {'base': 'USDT', 'quote': 'USDC'}, 'price': '1.0003000450135041', 'time': '2023-12-07T22:29:22.742943479Z'}}\n",
      "On Prices: {'type': 'update', 'channel': 'prices', 'data': {'pair': {'base': 'AVAX', 'quote': 'BTC.b'}, 'price': '0.0006140236889736', 'time': '2023-12-07T22:29:22.742943479Z'}}\n",
      "On Prices: {'type': 'update', 'channel': 'prices', 'data': {'pair': {'base': 'AVAX', 'quote': 'WBTC'}, 'price': '0.0006140236889736', 'time': '2023-12-07T22:29:22.742943479Z'}}\n",
      "On Prices: {'type': 'update', 'channel': 'prices', 'data': {'pair': {'base': 'ETH', 'quote': 'BTC.b'}, 'price': '0.0545800154067018', 'time': '2023-12-07T22:29:22.742943479Z'}}\n",
      "On Prices: {'type': 'update', 'channel': 'prices', 'data': {'pair': {'base': 'LINK', 'quote': 'USDC'}, 'price': '15.6992090563519056', 'time': '2023-12-07T22:29:22.742943479Z'}}\n",
      "On Prices: {'type': 'update', 'channel': 'prices', 'data': {'pair': {'base': 'LINK', 'quote': 'ETH'}, 'price': '0.0066358322386673', 'time': '2023-12-07T22:29:22.742943479Z'}}\n",
      "On Prices: {'type': 'update', 'channel': 'prices', 'data': {'pair': {'base': 'BTC', 'quote': 'USD'}, 'price': '43345.26', 'time': '2023-12-07T22:29:22.742943479Z'}}\n",
      "On Prices: {'type': 'update', 'channel': 'prices', 'data': {'pair': {'base': 'BTC', 'quote': 'USDT'}, 'price': '43337.605', 'time': '2023-12-07T22:29:22.742943479Z'}}\n",
      "On Prices: {'type': 'update', 'channel': 'prices', 'data': {'pair': {'base': 'ETH', 'quote': 'USDC'}, 'price': '2365.6670936893818146', 'time': '2023-12-07T22:29:22.742943479Z'}}\n",
      "On Disconnect\n",
      "On Exit\n"
     ]
    },
    {
     "data": {
      "text/plain": [
       "[True, None, None]"
      ]
     },
     "execution_count": 7,
     "metadata": {},
     "output_type": "execute_result"
    }
   ],
   "source": [
    "await asyncio.gather(ws.run(), close_after(ws, 20), subscribe_and_unsubscribe_prices(1))"
   ]
  }
 ],
 "metadata": {
  "kernelspec": {
   "display_name": "Python 3",
   "language": "python",
   "name": "python3"
  },
  "language_info": {
   "codemirror_mode": {
    "name": "ipython",
    "version": 3
   },
   "file_extension": ".py",
   "mimetype": "text/x-python",
   "name": "python",
   "nbconvert_exporter": "python",
   "pygments_lexer": "ipython3",
   "version": "3.8.17"
  }
 },
 "nbformat": 4,
 "nbformat_minor": 2
}
