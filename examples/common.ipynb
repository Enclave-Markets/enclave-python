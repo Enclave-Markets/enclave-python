{
 "cells": [
  {
   "cell_type": "markdown",
   "metadata": {},
   "source": [
    "# Common REST API Demo\n",
    "\n",
    "[Common REST API Docs](https://enclave-markets.notion.site/Common-REST-API-9d546fa6282b4bad87ef43d189b9071b)\n",
    "\n",
    "## getting started\n",
    "\n",
    "Note that for many of the endpoints such as deposit and withdrawal to work, you cannot use the sandbox environment.\n",
    "\n",
    "### auth\n",
    "\n",
    "Before using, please read the [overview docs](https://enclave-markets.notion.site/REST-API-Overview-57966a627e5445bba573fd66475a553d)\n",
    "as well as the [authentication docs](https://enclave-markets.notion.site/Rest-API-Authentication-3956dcfecbdc48269031cf052926c90d) \n",
    "to get an API key with View + Transfer to use the full demo, or just make a key with View to ensure no funds are moved.\n",
    "\n",
    "### prepare account\n",
    "\n",
    "After following the instruction to get an API key and secret, for all the endpoints to work as shown, do the following:\n",
    "\n",
    "1.  provision a deposit address for AVAX\n",
    "2.  deposit (not from a smart wallet!) some AVAX to the address\n",
    "    1.  save the transaction ID from the chain.\n",
    "3.  add a withdrawal address to your address book\n",
    "\n",
    "now you're all set :)\n"
   ]
  },
  {
   "cell_type": "markdown",
   "metadata": {},
   "source": [
    "## setup\n",
    "\n",
    "Install dependencies. "
   ]
  },
  {
   "cell_type": "markdown",
   "metadata": {},
   "source": [
    "### janky fix import\n",
    "\n",
    "And add the enclave module's path to the system path so we can import the local module in jupyter. \n",
    "Alternatively in VSCode you can follow [this tutorial](https://stackoverflow.com/a/73954768),\n",
    "or from the command line generally [this tutorial](https://stackoverflow.com/a/65182353).\n",
    "\n",
    "If you follow the above, feel free to remove the next cell."
   ]
  },
  {
   "cell_type": "code",
   "execution_count": null,
   "metadata": {},
   "outputs": [],
   "source": [
    "import os\n",
    "import sys\n",
    "module_path = os.path.abspath(os.path.join('..'))\n",
    "if module_path not in sys.path:\n",
    "    sys.path.append(module_path)"
   ]
  },
  {
   "cell_type": "markdown",
   "metadata": {},
   "source": [
    "### dependencies\n",
    "\n",
    "Continue installing and importing dependencies normally."
   ]
  },
  {
   "cell_type": "code",
   "execution_count": null,
   "metadata": {},
   "outputs": [],
   "source": [
    "%pip install requests\n",
    "\n",
    "import enclave"
   ]
  },
  {
   "cell_type": "markdown",
   "metadata": {},
   "source": [
    "## environment variables\n",
    "\n",
    "Set the following variables for auth and to set the base url."
   ]
  },
  {
   "cell_type": "code",
   "execution_count": null,
   "metadata": {},
   "outputs": [],
   "source": [
    "import enclave.models\n",
    "from IPython.core.error import UsageError\n",
    "\n",
    "# change to the env of your choice that matches the API keys: PROD, DEV, SANDBOX etc.\n",
    "BASE_URL = enclave.models.SANDBOX\n",
    "\n",
    "\n",
    "### three ways to get API key and secret, tried in order.\n",
    "\n",
    "# 1. as hardcoded strings\n",
    "API_KEY: str = \"\"\n",
    "API_SECRET: str = \"\"\n",
    "\n",
    "# 2. as environment variables\n",
    "if not(all([API_KEY, API_SECRET])):\n",
    "    try:\n",
    "        API_KEY = %env ENCLAVE_API_KEY\n",
    "        API_SECRET = %env ENCLAVE_API_SECRET\n",
    "    except UsageError:\n",
    "        pass\n",
    "\n",
    "# 3. from a .env file with `key` and `secret` set.\n",
    "if not(all([API_KEY, API_SECRET])):\n",
    "    %pip install python-dotenv\n",
    "    import dotenv\n",
    "    envs = dotenv.dotenv_values()\n",
    "    if envs and \"key\" in envs and \"secret\" in envs:\n",
    "        API_KEY, API_SECRET = str(envs[\"key\"]), str(envs[\"secret\"])\n",
    "\n",
    "\n",
    "if not(all([API_KEY, API_SECRET])):\n",
    "    raise ValueError(\"Please provide API_KEY and API_SECRET\")"
   ]
  },
  {
   "cell_type": "markdown",
   "metadata": {},
   "source": [
    "## create client\n",
    "\n",
    "Create a client with the variables and get authed hello.\n",
    "\n",
    "If you get anything other than a 200 status code and the hello message with `\"success\": True` \n",
    "and your Enclave Account ID, then there is an issue -- <br>\n",
    "either with auth or connection permissions to the URL."
   ]
  },
  {
   "cell_type": "code",
   "execution_count": null,
   "metadata": {},
   "outputs": [],
   "source": [
    "from enclave.client import Client\n",
    "\n",
    "client = Client(api_key=API_KEY, api_secret=API_SECRET, base_url=BASE_URL)\n",
    "\n",
    "hello_res = client.authed_hello()\n",
    "if 200 <= hello_res.status_code < 300:\n",
    "    print(hello_json := hello_res.json())\n",
    "    assert hello_json[\"success\"] == True\n",
    "else:\n",
    "    print(f\"Could not connect:\\n{hello_res.text=}\")"
   ]
  }
 ],
 "metadata": {
  "kernelspec": {
   "display_name": "Python 3",
   "language": "python",
   "name": "python3"
  },
  "language_info": {
   "codemirror_mode": {
    "name": "ipython",
    "version": 3
   },
   "file_extension": ".py",
   "mimetype": "text/x-python",
   "name": "python",
   "nbconvert_exporter": "python",
   "pygments_lexer": "ipython3",
   "version": "3.8.17"
  }
 },
 "nbformat": 4,
 "nbformat_minor": 2
}
